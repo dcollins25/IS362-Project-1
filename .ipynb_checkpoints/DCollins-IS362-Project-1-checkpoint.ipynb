{
 "cells": [
  {
   "cell_type": "code",
   "execution_count": 1,
   "id": "8832ef9f-69c5-4ae2-ab8a-ba5edb42b93d",
   "metadata": {},
   "outputs": [],
   "source": [
    "# There are many things we can do with the pandas library\n",
    "# First we import the library"
   ]
  },
  {
   "cell_type": "code",
   "execution_count": 3,
   "id": "4eb766b9-ed2a-4cf4-a11c-5bd9105a574e",
   "metadata": {},
   "outputs": [],
   "source": [
    "import pandas as pd"
   ]
  },
  {
   "cell_type": "code",
   "execution_count": 4,
   "id": "44ed08a6-9c41-4e5c-afa9-43488cb9215e",
   "metadata": {},
   "outputs": [],
   "source": [
    "# Next we can read in a .csv file of data"
   ]
  },
  {
   "cell_type": "code",
   "execution_count": 5,
   "id": "574e59e1-210c-4d00-8bc7-1a6438680272",
   "metadata": {},
   "outputs": [],
   "source": [
    "df = pd.read_csv('arrivalstatus.csv')"
   ]
  },
  {
   "cell_type": "code",
   "execution_count": 6,
   "id": "7243ef56-e598-4720-b1e5-78a2c4c8de6c",
   "metadata": {},
   "outputs": [],
   "source": [
    "# We can then print that imported data to see what it looks like"
   ]
  },
  {
   "cell_type": "code",
   "execution_count": 7,
   "id": "e01a0af4-3951-4538-b920-cb00b54c3730",
   "metadata": {},
   "outputs": [
    {
     "name": "stdout",
     "output_type": "stream",
     "text": [
      "   Airline   ArrivalCity  FlightsOnTime  FlightsDelayed\n",
      "0   Alaska    LosAngeles            497              62\n",
      "1   Alaska       Phoenix            221              12\n",
      "2   Alaska      SanDiego            212              20\n",
      "3   Alaska  SanFrancisco            503             102\n",
      "4   Alaska       Seattle           1841             305\n",
      "5  AM-West    LosAngeles            694             117\n",
      "6  AM-West       Phoenix           4840             415\n",
      "7  AM-West      SanDiego            383              65\n",
      "8  AM-West  SanFrancisco            320             129\n",
      "9  AM-West       Seattle            201              61\n"
     ]
    }
   ],
   "source": [
    "print(df.to_string()) "
   ]
  },
  {
   "cell_type": "code",
   "execution_count": 8,
   "id": "2b125022-d461-4e8b-806d-9cfb01c10295",
   "metadata": {},
   "outputs": [],
   "source": [
    "# We can also use many different pandas properties and methods to get more information about the dataframe"
   ]
  },
  {
   "cell_type": "code",
   "execution_count": 9,
   "id": "2a525fec-ded8-4b93-8c24-1518dfede458",
   "metadata": {},
   "outputs": [],
   "source": [
    "# The ndim property returns the number of dimension of the DataFrame."
   ]
  },
  {
   "cell_type": "code",
   "execution_count": 10,
   "id": "c7aee521-c0ac-4d8a-902b-b79f4b2da337",
   "metadata": {},
   "outputs": [
    {
     "name": "stdout",
     "output_type": "stream",
     "text": [
      "2\n"
     ]
    }
   ],
   "source": [
    "print(df.ndim)"
   ]
  },
  {
   "cell_type": "code",
   "execution_count": 11,
   "id": "3f2c6290-d935-4100-9e89-93d9b70a5b48",
   "metadata": {},
   "outputs": [],
   "source": [
    "# The info() prints information about the DataFrame."
   ]
  },
  {
   "cell_type": "code",
   "execution_count": 12,
   "id": "15f04194-41fe-4c95-881d-4751f1d7db2e",
   "metadata": {},
   "outputs": [
    {
     "name": "stdout",
     "output_type": "stream",
     "text": [
      "<class 'pandas.core.frame.DataFrame'>\n",
      "RangeIndex: 10 entries, 0 to 9\n",
      "Data columns (total 4 columns):\n",
      " #   Column          Non-Null Count  Dtype \n",
      "---  ------          --------------  ----- \n",
      " 0   Airline         10 non-null     object\n",
      " 1   ArrivalCity     10 non-null     object\n",
      " 2   FlightsOnTime   10 non-null     int64 \n",
      " 3   FlightsDelayed  10 non-null     int64 \n",
      "dtypes: int64(2), object(2)\n",
      "memory usage: 448.0+ bytes\n"
     ]
    }
   ],
   "source": [
    "df.info()"
   ]
  },
  {
   "cell_type": "code",
   "execution_count": 13,
   "id": "2323d5b4-9b98-474f-8a7d-68a658480031",
   "metadata": {},
   "outputs": [],
   "source": [
    "# Count number of not null values to find out the # of values for each column"
   ]
  },
  {
   "cell_type": "code",
   "execution_count": 14,
   "id": "0f47de0c-a176-4757-8937-3745c778ee02",
   "metadata": {},
   "outputs": [
    {
     "name": "stdout",
     "output_type": "stream",
     "text": [
      "Airline           10\n",
      "ArrivalCity       10\n",
      "FlightsOnTime     10\n",
      "FlightsDelayed    10\n",
      "dtype: int64\n"
     ]
    }
   ],
   "source": [
    "print(df.count())"
   ]
  },
  {
   "cell_type": "code",
   "execution_count": 15,
   "id": "ae1ebda4-e2a5-464d-b243-e7a35b5b37e0",
   "metadata": {},
   "outputs": [],
   "source": [
    "# We can use the The describe() method returns description of the data in the DataFrame."
   ]
  },
  {
   "cell_type": "code",
   "execution_count": 16,
   "id": "07ca13ee-9940-45d3-88f9-926eb8bccab7",
   "metadata": {},
   "outputs": [
    {
     "name": "stdout",
     "output_type": "stream",
     "text": [
      "       FlightsOnTime  FlightsDelayed\n",
      "count      10.000000       10.000000\n",
      "mean      971.200000      128.800000\n",
      "std      1443.280045      130.138217\n",
      "min       201.000000       12.000000\n",
      "25%       245.750000       61.250000\n",
      "50%       440.000000       83.500000\n",
      "75%       646.250000      126.000000\n",
      "max      4840.000000      415.000000\n"
     ]
    }
   ],
   "source": [
    "print(df.describe())"
   ]
  },
  {
   "cell_type": "code",
   "execution_count": 17,
   "id": "7fe39e7c-dc7a-4283-aa6c-c3d4459d3d2a",
   "metadata": {},
   "outputs": [],
   "source": [
    "# Pandas uses the plot() method to create diagrams.\n",
    "# We can use Pyplot, a submodule of the Matplotlib library to visualize the diagram on the screen.\n",
    "# For this, we will have to import matplotlib.pyplot"
   ]
  },
  {
   "cell_type": "code",
   "execution_count": 18,
   "id": "7fb139f1-1260-4ff9-ac1d-8f33f9cfbea5",
   "metadata": {},
   "outputs": [],
   "source": [
    "import matplotlib.pyplot as plt"
   ]
  },
  {
   "cell_type": "code",
   "execution_count": 19,
   "id": "b9791751-c7db-4044-9539-3c54ac5bd699",
   "metadata": {},
   "outputs": [],
   "source": [
    "# This will get the data ready for the plot ..."
   ]
  },
  {
   "cell_type": "code",
   "execution_count": 20,
   "id": "83a628df-6dc9-4366-83cd-21d32ce8b81d",
   "metadata": {},
   "outputs": [
    {
     "data": {
      "text/plain": [
       "<AxesSubplot:>"
      ]
     },
     "execution_count": 20,
     "metadata": {},
     "output_type": "execute_result"
    },
    {
     "data": {
      "image/png": "[encoded data removed]",
      "text/plain": [
       "<Figure size 432x288 with 1 Axes>"
      ]
     },
     "metadata": {
      "needs_background": "light"
     },
     "output_type": "display_data"
    }
   ],
   "source": [
    "df.plot()"
   ]
  },
  {
   "cell_type": "code",
   "execution_count": 21,
   "id": "edf3c1c8-7bef-4ced-b8cd-8fee4173230b",
   "metadata": {},
   "outputs": [],
   "source": [
    "# And this method, when run from an iPython command-line will launch a small GUI window to show the data ..."
   ]
  },
  {
   "cell_type": "code",
   "execution_count": 24,
   "id": "858e053d-c902-4a81-b8bf-3e9a5902d738",
   "metadata": {},
   "outputs": [],
   "source": [
    "plt.show()"
   ]
  },
  {
   "cell_type": "code",
   "execution_count": 25,
   "id": "da42599b-42da-4885-a299-a65f14bff862",
   "metadata": {},
   "outputs": [],
   "source": [
    "# we can also show the data in a scatter plot by specifying the kind='scatter' in the function"
   ]
  },
  {
   "cell_type": "code",
   "execution_count": 26,
   "id": "eb33da0f-c890-4ecb-a60f-3826a2fbffad",
   "metadata": {},
   "outputs": [
    {
     "data": {
      "text/plain": [
       "<AxesSubplot:xlabel='ArrivalCity', ylabel='FlightsDelayed'>"
      ]
     },
     "execution_count": 26,
     "metadata": {},
     "output_type": "execute_result"
    },
    {
     "data": {
      "image/png": "[encoded data removed]",
      "text/plain": [
       "<Figure size 432x288 with 1 Axes>"
      ]
     },
     "metadata": {
      "needs_background": "light"
     },
     "output_type": "display_data"
    }
   ],
   "source": [
    "df.plot(kind = 'scatter', x = 'ArrivalCity', y = 'FlightsDelayed')"
   ]
  },
  {
   "cell_type": "code",
   "execution_count": 27,
   "id": "7f3cd62c-5885-45db-bb1e-b77de575d009",
   "metadata": {},
   "outputs": [],
   "source": [
    "# Now aware of some of the information in the dataframe (using info() and describe()) we can query the data ...\n",
    "# In what cities where more than 200 flights delayed across both airlines?"
   ]
  },
  {
   "cell_type": "code",
   "execution_count": 28,
   "id": "72f6fc11-d808-4b38-92ce-5e5372a23cd7",
   "metadata": {},
   "outputs": [
    {
     "name": "stdout",
     "output_type": "stream",
     "text": [
      "   Airline ArrivalCity  FlightsOnTime  FlightsDelayed\n",
      "4   Alaska     Seattle           1841             305\n",
      "6  AM-West     Phoenix           4840             415\n"
     ]
    }
   ],
   "source": [
    "print(df.query('FlightsDelayed > 200'))"
   ]
  },
  {
   "cell_type": "code",
   "execution_count": 29,
   "id": "39f52337-72bb-4197-9740-5157fc0c4934",
   "metadata": {},
   "outputs": [],
   "source": [
    "# In what cities were more than 500 flights on time across both airlines?"
   ]
  },
  {
   "cell_type": "code",
   "execution_count": 30,
   "id": "99cdb03b-7a48-4dc8-9a2d-9dbcc6fb626b",
   "metadata": {},
   "outputs": [
    {
     "name": "stdout",
     "output_type": "stream",
     "text": [
      "   Airline   ArrivalCity  FlightsOnTime  FlightsDelayed\n",
      "3   Alaska  SanFrancisco            503             102\n",
      "4   Alaska       Seattle           1841             305\n",
      "5  AM-West    LosAngeles            694             117\n",
      "6  AM-West       Phoenix           4840             415\n"
     ]
    }
   ],
   "source": [
    "print(df.query('FlightsOnTime > 500'))"
   ]
  },
  {
   "cell_type": "code",
   "execution_count": 31,
   "id": "75478275-5495-46b4-9f7b-8dface3cf000",
   "metadata": {},
   "outputs": [],
   "source": [
    "# And look for precise matches ..."
   ]
  },
  {
   "cell_type": "code",
   "execution_count": 32,
   "id": "2b20d46d-6403-4c6a-8b8b-21e793ea0671",
   "metadata": {},
   "outputs": [
    {
     "name": "stdout",
     "output_type": "stream",
     "text": [
      "  Airline ArrivalCity  FlightsOnTime  FlightsDelayed\n",
      "0  Alaska  LosAngeles            497              62\n"
     ]
    }
   ],
   "source": [
    "print(df.query('FlightsDelayed == 62'))"
   ]
  },
  {
   "cell_type": "code",
   "execution_count": 33,
   "id": "4d0a2fb1-42c4-4d14-a9ba-3d65b7e75db9",
   "metadata": {},
   "outputs": [],
   "source": [
    "# Alternatively, we could also repeatedly request samples of the dataframe ... and specify how many sample"
   ]
  },
  {
   "cell_type": "code",
   "execution_count": 34,
   "id": "9757f1f7-6c2a-40f2-810a-82eebd94cf25",
   "metadata": {},
   "outputs": [
    {
     "name": "stdout",
     "output_type": "stream",
     "text": [
      "  Airline ArrivalCity  FlightsOnTime  FlightsDelayed\n",
      "4  Alaska     Seattle           1841             305\n"
     ]
    }
   ],
   "source": [
    "print(df.sample())"
   ]
  },
  {
   "cell_type": "code",
   "execution_count": 36,
   "id": "6293c65e-31f6-4ffa-b6bf-21fa6834747f",
   "metadata": {},
   "outputs": [
    {
     "name": "stdout",
     "output_type": "stream",
     "text": [
      "   Airline   ArrivalCity  FlightsOnTime  FlightsDelayed\n",
      "8  AM-West  SanFrancisco            320             129\n",
      "6  AM-West       Phoenix           4840             415\n",
      "2   Alaska      SanDiego            212              20\n"
     ]
    }
   ],
   "source": [
    "print(df.sample(3))"
   ]
  },
  {
   "cell_type": "code",
   "execution_count": null,
   "id": "990e6502-b531-4157-b65f-56646a30ff9e",
   "metadata": {},
   "outputs": [],
   "source": [
    "# Also after using info() and describe() we coud use select_dtypes() method.\n",
    "# This returns a new DataFrame that includes/excludes columns of the specified dtype(s).\n",
    "# dataframe.select_dtypes(include, exclude)\n",
    "# For example, recalling the info() about the dataframe ..."
   ]
  },
  {
   "cell_type": "code",
   "execution_count": 38,
   "id": "28c96a17-43a1-4e7f-888c-5b040f6dec67",
   "metadata": {},
   "outputs": [
    {
     "name": "stdout",
     "output_type": "stream",
     "text": [
      "<class 'pandas.core.frame.DataFrame'>\n",
      "RangeIndex: 10 entries, 0 to 9\n",
      "Data columns (total 4 columns):\n",
      " #   Column          Non-Null Count  Dtype \n",
      "---  ------          --------------  ----- \n",
      " 0   Airline         10 non-null     object\n",
      " 1   ArrivalCity     10 non-null     object\n",
      " 2   FlightsOnTime   10 non-null     int64 \n",
      " 3   FlightsDelayed  10 non-null     int64 \n",
      "dtypes: int64(2), object(2)\n",
      "memory usage: 448.0+ bytes\n"
     ]
    }
   ],
   "source": [
    "df.info()"
   ]
  },
  {
   "cell_type": "code",
   "execution_count": 39,
   "id": "a775200a-835d-4907-87ce-c0903ce3f3e8",
   "metadata": {},
   "outputs": [],
   "source": [
    "# We could then include or exclude certain data types ..."
   ]
  },
  {
   "cell_type": "code",
   "execution_count": 41,
   "id": "34582f0a-bb06-4a0b-b4d2-69f828bfafef",
   "metadata": {},
   "outputs": [],
   "source": [
    "intdf = df.select_dtypes(include='int64')"
   ]
  },
  {
   "cell_type": "code",
   "execution_count": 42,
   "id": "a07271fe-6822-469a-bcc6-77e8f8507d58",
   "metadata": {},
   "outputs": [],
   "source": [
    "nonintdf = df.select_dtypes(exclude='int64')"
   ]
  },
  {
   "cell_type": "code",
   "execution_count": 43,
   "id": "96c3f9ca-2b79-484b-a16e-b70bda1f90ef",
   "metadata": {},
   "outputs": [],
   "source": [
    "# And then print them  out ..."
   ]
  },
  {
   "cell_type": "code",
   "execution_count": 44,
   "id": "fdbb88fd-6e06-4b65-a846-d30e6f6cecff",
   "metadata": {},
   "outputs": [
    {
     "name": "stdout",
     "output_type": "stream",
     "text": [
      "   FlightsOnTime  FlightsDelayed\n",
      "0            497              62\n",
      "1            221              12\n",
      "2            212              20\n",
      "3            503             102\n",
      "4           1841             305\n",
      "5            694             117\n",
      "6           4840             415\n",
      "7            383              65\n",
      "8            320             129\n",
      "9            201              61\n"
     ]
    }
   ],
   "source": [
    "print(intdf)"
   ]
  },
  {
   "cell_type": "code",
   "execution_count": 45,
   "id": "da8ecc29-9a29-40aa-af24-84f585fcfcca",
   "metadata": {},
   "outputs": [
    {
     "name": "stdout",
     "output_type": "stream",
     "text": [
      "   Airline   ArrivalCity\n",
      "0   Alaska    LosAngeles\n",
      "1   Alaska       Phoenix\n",
      "2   Alaska      SanDiego\n",
      "3   Alaska  SanFrancisco\n",
      "4   Alaska       Seattle\n",
      "5  AM-West    LosAngeles\n",
      "6  AM-West       Phoenix\n",
      "7  AM-West      SanDiego\n",
      "8  AM-West  SanFrancisco\n",
      "9  AM-West       Seattle\n"
     ]
    }
   ],
   "source": [
    "print(nonintdf)"
   ]
  },
  {
   "cell_type": "code",
   "execution_count": 46,
   "id": "cd61b08d-3e2b-4de7-acf7-d5e4ba3b6fe9",
   "metadata": {},
   "outputs": [],
   "source": [
    "# pandas is a very powerful tool that makes working with dataframe much easier than Python without it."
   ]
  }
 ],
 "metadata": {
  "kernelspec": {
   "display_name": "Python 3 (ipykernel)",
   "language": "python",
   "name": "python3"
  },
  "language_info": {
   "codemirror_mode": {
    "name": "ipython",
    "version": 3
   },
   "file_extension": ".py",
   "mimetype": "text/x-python",
   "name": "python",
   "nbconvert_exporter": "python",
   "pygments_lexer": "ipython3",
   "version": "3.9.12"
  }
 },
 "nbformat": 4,
 "nbformat_minor": 5
}
